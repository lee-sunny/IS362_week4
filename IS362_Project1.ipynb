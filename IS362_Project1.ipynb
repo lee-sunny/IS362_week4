{
 "cells": [
  {
   "cell_type": "markdown",
   "metadata": {},
   "source": [
    "# IS 362 - Project 1\n",
    "Sunah Lee\n",
    "### Compare the arrival delays for two airlines across five destinations\n",
    "\n",
    "## Part 1: Create a .CSV file with the information given\n",
    "\n",
    "I created a new CSV file names IS362_Project1_SunahLee and reorganized the data.\n",
    "The Airlines and on time and delayed counts were reorganized into columns and the cities were reorganized into rows.\n",
    "This was done to easily manipulate the columns and add more columns if necessary."
   ]
  },
  {
   "cell_type": "code",
   "execution_count": 90,
   "metadata": {},
   "outputs": [],
   "source": [
    "import pandas as pd"
   ]
  },
  {
   "cell_type": "code",
   "execution_count": 91,
   "metadata": {
    "scrolled": true
   },
   "outputs": [
    {
     "data": {
      "text/html": [
       "<div>\n",
       "<style scoped>\n",
       "    .dataframe tbody tr th:only-of-type {\n",
       "        vertical-align: middle;\n",
       "    }\n",
       "\n",
       "    .dataframe tbody tr th {\n",
       "        vertical-align: top;\n",
       "    }\n",
       "\n",
       "    .dataframe thead th {\n",
       "        text-align: right;\n",
       "    }\n",
       "</style>\n",
       "<table border=\"1\" class=\"dataframe\">\n",
       "  <thead>\n",
       "    <tr style=\"text-align: right;\">\n",
       "      <th></th>\n",
       "      <th>City</th>\n",
       "      <th>ALASKA_ontime</th>\n",
       "      <th>ALASKA_delayed</th>\n",
       "      <th>AMWEST_ontime</th>\n",
       "      <th>AMWEST_delayed</th>\n",
       "    </tr>\n",
       "  </thead>\n",
       "  <tbody>\n",
       "    <tr>\n",
       "      <td>0</td>\n",
       "      <td>Los Angeles</td>\n",
       "      <td>497</td>\n",
       "      <td>62</td>\n",
       "      <td>694</td>\n",
       "      <td>117</td>\n",
       "    </tr>\n",
       "    <tr>\n",
       "      <td>1</td>\n",
       "      <td>Phoenix</td>\n",
       "      <td>221</td>\n",
       "      <td>12</td>\n",
       "      <td>4840</td>\n",
       "      <td>415</td>\n",
       "    </tr>\n",
       "    <tr>\n",
       "      <td>2</td>\n",
       "      <td>San Diego</td>\n",
       "      <td>212</td>\n",
       "      <td>20</td>\n",
       "      <td>383</td>\n",
       "      <td>65</td>\n",
       "    </tr>\n",
       "    <tr>\n",
       "      <td>3</td>\n",
       "      <td>San Francisco</td>\n",
       "      <td>503</td>\n",
       "      <td>102</td>\n",
       "      <td>320</td>\n",
       "      <td>129</td>\n",
       "    </tr>\n",
       "    <tr>\n",
       "      <td>4</td>\n",
       "      <td>Seattle</td>\n",
       "      <td>1841</td>\n",
       "      <td>305</td>\n",
       "      <td>201</td>\n",
       "      <td>61</td>\n",
       "    </tr>\n",
       "  </tbody>\n",
       "</table>\n",
       "</div>"
      ],
      "text/plain": [
       "            City  ALASKA_ontime  ALASKA_delayed  AMWEST_ontime  AMWEST_delayed\n",
       "0    Los Angeles            497              62            694             117\n",
       "1        Phoenix            221              12           4840             415\n",
       "2      San Diego            212              20            383              65\n",
       "3  San Francisco            503             102            320             129\n",
       "4        Seattle           1841             305            201              61"
      ]
     },
     "execution_count": 91,
     "metadata": {},
     "output_type": "execute_result"
    }
   ],
   "source": [
    "airlines = pd.read_csv('IS362_Project1_SunahLee.csv')\n",
    "airlines"
   ]
  },
  {
   "cell_type": "markdown",
   "metadata": {},
   "source": [
    "## Part 2: Perform analysis to compare the arrival delays for the two airlines\n",
    "To compare the arrival delays of the two airlines, I inserted new columns in column 3 and 6 to show the total number of flights for each airline."
   ]
  },
  {
   "cell_type": "code",
   "execution_count": 92,
   "metadata": {
    "scrolled": true
   },
   "outputs": [
    {
     "data": {
      "text/html": [
       "<div>\n",
       "<style scoped>\n",
       "    .dataframe tbody tr th:only-of-type {\n",
       "        vertical-align: middle;\n",
       "    }\n",
       "\n",
       "    .dataframe tbody tr th {\n",
       "        vertical-align: top;\n",
       "    }\n",
       "\n",
       "    .dataframe thead th {\n",
       "        text-align: right;\n",
       "    }\n",
       "</style>\n",
       "<table border=\"1\" class=\"dataframe\">\n",
       "  <thead>\n",
       "    <tr style=\"text-align: right;\">\n",
       "      <th></th>\n",
       "      <th>City</th>\n",
       "      <th>ALASKA_ontime</th>\n",
       "      <th>ALASKA_delayed</th>\n",
       "      <th>ALASKA_total</th>\n",
       "      <th>AMWEST_ontime</th>\n",
       "      <th>AMWEST_delayed</th>\n",
       "      <th>AMWEST_total</th>\n",
       "    </tr>\n",
       "  </thead>\n",
       "  <tbody>\n",
       "    <tr>\n",
       "      <td>0</td>\n",
       "      <td>Los Angeles</td>\n",
       "      <td>497</td>\n",
       "      <td>62</td>\n",
       "      <td>559</td>\n",
       "      <td>694</td>\n",
       "      <td>117</td>\n",
       "      <td>811</td>\n",
       "    </tr>\n",
       "    <tr>\n",
       "      <td>1</td>\n",
       "      <td>Phoenix</td>\n",
       "      <td>221</td>\n",
       "      <td>12</td>\n",
       "      <td>233</td>\n",
       "      <td>4840</td>\n",
       "      <td>415</td>\n",
       "      <td>5255</td>\n",
       "    </tr>\n",
       "    <tr>\n",
       "      <td>2</td>\n",
       "      <td>San Diego</td>\n",
       "      <td>212</td>\n",
       "      <td>20</td>\n",
       "      <td>232</td>\n",
       "      <td>383</td>\n",
       "      <td>65</td>\n",
       "      <td>448</td>\n",
       "    </tr>\n",
       "    <tr>\n",
       "      <td>3</td>\n",
       "      <td>San Francisco</td>\n",
       "      <td>503</td>\n",
       "      <td>102</td>\n",
       "      <td>605</td>\n",
       "      <td>320</td>\n",
       "      <td>129</td>\n",
       "      <td>449</td>\n",
       "    </tr>\n",
       "    <tr>\n",
       "      <td>4</td>\n",
       "      <td>Seattle</td>\n",
       "      <td>1841</td>\n",
       "      <td>305</td>\n",
       "      <td>2146</td>\n",
       "      <td>201</td>\n",
       "      <td>61</td>\n",
       "      <td>262</td>\n",
       "    </tr>\n",
       "  </tbody>\n",
       "</table>\n",
       "</div>"
      ],
      "text/plain": [
       "            City  ALASKA_ontime  ALASKA_delayed  ALASKA_total  AMWEST_ontime  \\\n",
       "0    Los Angeles            497              62           559            694   \n",
       "1        Phoenix            221              12           233           4840   \n",
       "2      San Diego            212              20           232            383   \n",
       "3  San Francisco            503             102           605            320   \n",
       "4        Seattle           1841             305          2146            201   \n",
       "\n",
       "   AMWEST_delayed  AMWEST_total  \n",
       "0             117           811  \n",
       "1             415          5255  \n",
       "2              65           448  \n",
       "3             129           449  \n",
       "4              61           262  "
      ]
     },
     "execution_count": 92,
     "metadata": {},
     "output_type": "execute_result"
    }
   ],
   "source": [
    "copy = airlines.copy()\n",
    "copy.insert(3, 'ALASKA_total', airlines.ALASKA_ontime + airlines.ALASKA_delayed)\n",
    "copy.insert(6, 'AMWEST_total', airlines.AMWEST_ontime + airlines.AMWEST_delayed)\n",
    "copy"
   ]
  },
  {
   "cell_type": "markdown",
   "metadata": {},
   "source": [
    "The total number of flights for the airlines were significantly different depending on the cities. Therefore, it is inaccurate to analyze the delays based on the number of delays.\n",
    "Therefore, the percentage of delayes were calculated as below."
   ]
  },
  {
   "cell_type": "code",
   "execution_count": 93,
   "metadata": {},
   "outputs": [
    {
     "data": {
      "text/html": [
       "<div>\n",
       "<style scoped>\n",
       "    .dataframe tbody tr th:only-of-type {\n",
       "        vertical-align: middle;\n",
       "    }\n",
       "\n",
       "    .dataframe tbody tr th {\n",
       "        vertical-align: top;\n",
       "    }\n",
       "\n",
       "    .dataframe thead th {\n",
       "        text-align: right;\n",
       "    }\n",
       "</style>\n",
       "<table border=\"1\" class=\"dataframe\">\n",
       "  <thead>\n",
       "    <tr style=\"text-align: right;\">\n",
       "      <th></th>\n",
       "      <th>City</th>\n",
       "      <th>ALASKA_delayrate</th>\n",
       "      <th>AMWEST_delayrate</th>\n",
       "    </tr>\n",
       "  </thead>\n",
       "  <tbody>\n",
       "    <tr>\n",
       "      <td>0</td>\n",
       "      <td>Los Angeles</td>\n",
       "      <td>0.110912</td>\n",
       "      <td>0.144266</td>\n",
       "    </tr>\n",
       "    <tr>\n",
       "      <td>1</td>\n",
       "      <td>Phoenix</td>\n",
       "      <td>0.051502</td>\n",
       "      <td>0.078972</td>\n",
       "    </tr>\n",
       "    <tr>\n",
       "      <td>2</td>\n",
       "      <td>San Diego</td>\n",
       "      <td>0.086207</td>\n",
       "      <td>0.145089</td>\n",
       "    </tr>\n",
       "    <tr>\n",
       "      <td>3</td>\n",
       "      <td>San Francisco</td>\n",
       "      <td>0.168595</td>\n",
       "      <td>0.287305</td>\n",
       "    </tr>\n",
       "    <tr>\n",
       "      <td>4</td>\n",
       "      <td>Seattle</td>\n",
       "      <td>0.142125</td>\n",
       "      <td>0.232824</td>\n",
       "    </tr>\n",
       "  </tbody>\n",
       "</table>\n",
       "</div>"
      ],
      "text/plain": [
       "            City  ALASKA_delayrate  AMWEST_delayrate\n",
       "0    Los Angeles          0.110912          0.144266\n",
       "1        Phoenix          0.051502          0.078972\n",
       "2      San Diego          0.086207          0.145089\n",
       "3  San Francisco          0.168595          0.287305\n",
       "4        Seattle          0.142125          0.232824"
      ]
     },
     "execution_count": 93,
     "metadata": {},
     "output_type": "execute_result"
    }
   ],
   "source": [
    "copy2 = copy.copy()\n",
    "copy2.insert(1, 'ALASKA_delayrate', copy.ALASKA_delayed / (copy.ALASKA_delayed + copy.ALASKA_ontime))\n",
    "copy2.insert(2, 'AMWEST_delayrate', copy.AMWEST_delayed / (copy.AMWEST_delayed + copy.AMWEST_ontime))\n",
    "copy2[['City', 'ALASKA_delayrate', 'AMWEST_delayrate']]"
   ]
  },
  {
   "cell_type": "markdown",
   "metadata": {},
   "source": [
    "The delay rates for AMWEST airline was higher than for ALASKA airline across all five cities.\n",
    "The average delay rate for ALASKA airline was 11.19% as calculated below."
   ]
  },
  {
   "cell_type": "code",
   "execution_count": 94,
   "metadata": {},
   "outputs": [
    {
     "data": {
      "text/plain": [
       "0.11186826215429235"
      ]
     },
     "execution_count": 94,
     "metadata": {},
     "output_type": "execute_result"
    }
   ],
   "source": [
    "copy2['ALASKA_delayrate'].mean()"
   ]
  },
  {
   "cell_type": "markdown",
   "metadata": {},
   "source": [
    "The average delay rate for AMWEST airline was 17.77% as calculated below."
   ]
  },
  {
   "cell_type": "code",
   "execution_count": 95,
   "metadata": {
    "scrolled": true
   },
   "outputs": [
    {
     "data": {
      "text/plain": [
       "0.17769151615506856"
      ]
     },
     "execution_count": 95,
     "metadata": {},
     "output_type": "execute_result"
    }
   ],
   "source": [
    "copy2['AMWEST_delayrate'].mean()"
   ]
  },
  {
   "cell_type": "markdown",
   "metadata": {},
   "source": [
    "## Conclusion\n",
    "AMWEST airline's average arrival delay rate (which was 17.77%) is 6.58% higher than ALASKA airline's average arrival delay rate(which was 11.19%).\n",
    "Therefore, ALASKA airline is the better choice when comparing the two airlines solely based on arrival delay rates."
   ]
  }
 ],
 "metadata": {
  "kernelspec": {
   "display_name": "Python 3",
   "language": "python",
   "name": "python3"
  },
  "language_info": {
   "codemirror_mode": {
    "name": "ipython",
    "version": 3
   },
   "file_extension": ".py",
   "mimetype": "text/x-python",
   "name": "python",
   "nbconvert_exporter": "python",
   "pygments_lexer": "ipython3",
   "version": "3.7.4"
  }
 },
 "nbformat": 4,
 "nbformat_minor": 2
}
